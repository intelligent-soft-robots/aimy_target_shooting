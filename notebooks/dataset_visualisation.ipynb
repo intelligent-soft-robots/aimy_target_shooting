{
 "cells": [
  {
   "cell_type": "code",
   "execution_count": null,
   "metadata": {},
   "outputs": [],
   "source": [
    "import os\n",
    "import sys\n",
    "import pathlib\n",
    "\n",
    "import numpy as np\n",
    "import matplotlib.pyplot as plt\n",
    "import tikzplotlib\n",
    "\n",
    "sys.path.append(str(pathlib.Path(os.getcwd()).parent.absolute()))\n",
    "\n",
    "path = \"plots\"\n",
    "isExist = os.path.exists(path)\n",
    "if not isExist:\n",
    "    os.makedirs(path)"
   ]
  },
  {
   "cell_type": "code",
   "execution_count": null,
   "metadata": {},
   "outputs": [],
   "source": [
    "from aimy_target_shooting.custom_types import TrajectoryCollection\n",
    "from aimy_target_shooting import (\n",
    "    export_tools,\n",
    "    hitpoint_detection,\n",
    "    hitpoint_utils,\n",
    ")"
   ]
  },
  {
   "cell_type": "code",
   "execution_count": null,
   "metadata": {},
   "outputs": [],
   "source": [
    "import seaborn as sns\n",
    "\n",
    "text_color = \"#222222\"\n",
    "sns.set(\n",
    "    font=\"Arial\",\n",
    "    rc={\n",
    "        \"axes.axisbelow\": True,\n",
    "        \"axes.edgecolor\": \"grey\",\n",
    "        \"axes.facecolor\": \"whitesmoke\",\n",
    "        \"axes.grid\": False,\n",
    "        \"axes.labelcolor\": text_color,\n",
    "        \"axes.spines.right\": True,\n",
    "        \"axes.spines.top\": True,\n",
    "        \"axes.titlecolor\": \"black\",\n",
    "        \"grid.color\": \"white\",\n",
    "        \"figure.constrained_layout.use\": True,\n",
    "        \"figure.facecolor\": \"None\",\n",
    "        \"figure.titlesize\": 16,\n",
    "        \"figure.titleweight\": \"bold\",\n",
    "        \"lines.solid_capstyle\": \"round\",\n",
    "        \"patch.edgecolor\": \"w\",\n",
    "        \"patch.force_edgecolor\": True,\n",
    "        \"text.color\": text_color,\n",
    "        \"xtick.bottom\": True,\n",
    "        \"xtick.color\": text_color,\n",
    "        \"xtick.direction\": \"out\",\n",
    "        \"xtick.top\": False,\n",
    "        \"ytick.color\": text_color,\n",
    "        # \"ytick.direction\": \"out\",\n",
    "        \"ytick.left\": True,\n",
    "        \"ytick.right\": False,\n",
    "        \"savefig.dpi\": 300,\n",
    "    },\n",
    ")\n",
    "\n",
    "sns.set_context(\n",
    "    \"paper\",\n",
    "    rc={\"font.size\": 12, \"axes.titlesize\": 14, \"axes.labelsize\": 12},\n",
    ")"
   ]
  },
  {
   "cell_type": "markdown",
   "metadata": {},
   "source": [
    "### Loading Training Data"
   ]
  },
  {
   "cell_type": "code",
   "execution_count": null,
   "metadata": {},
   "outputs": [],
   "source": [
    "# Import location\n",
    "directory_path = pathlib.Path(\n",
    "    \"/home/adittrich/nextcloud/82_Data_Processed/MN5008_training_data\"\n",
    ")\n",
    "file_name = \"MN5008_grid_data_all.hdf5\"\n",
    "\n",
    "# Import trajectories\n",
    "data_raw = export_tools.import_all_from_hdf5(file_path=directory_path / file_name)\n",
    "print(f\"Length raw: {len(data_raw)}\")"
   ]
  },
  {
   "cell_type": "markdown",
   "metadata": {},
   "source": [
    "## Visualisation"
   ]
  },
  {
   "cell_type": "markdown",
   "metadata": {},
   "source": [
    "#### Extract Hitpoints"
   ]
  },
  {
   "cell_type": "code",
   "execution_count": null,
   "metadata": {},
   "outputs": [],
   "source": [
    "detector = hitpoint_detection.HitPointDetection()\n",
    "data_hitpoints = detector.evaluate_hitpoints(data_raw)\n",
    "data_hitpoints = hitpoint_utils.remove_further_hitpoints(\n",
    "    data_hitpoints, max_hitpoints=1\n",
    ")\n",
    "detection = hitpoint_detection.HitPointDetection()"
   ]
  },
  {
   "cell_type": "markdown",
   "metadata": {},
   "source": [
    "#### Visualize Hitpoints in Plane"
   ]
  },
  {
   "cell_type": "code",
   "execution_count": null,
   "metadata": {},
   "outputs": [],
   "source": [
    "def add_table_2d(ax: plt.axes, shift: float = 0.0):\n",
    "    table = plt.Rectangle(\n",
    "        (0 + shift, -1.525 / 2),\n",
    "        2.74,\n",
    "        1.525,\n",
    "        facecolor=\"dimgray\",\n",
    "        alpha=0.45,\n",
    "        zorder=1,\n",
    "        label=\"_nolegend_\",\n",
    "    )\n",
    "\n",
    "    table_frame = plt.Rectangle(\n",
    "        (0 + shift, -1.525 / 2),\n",
    "        2.74,\n",
    "        1.525,\n",
    "        linewidth=8,\n",
    "        facecolor=\"none\",\n",
    "        edgecolor=\"white\",\n",
    "        zorder=1,\n",
    "        label=\"_nolegend_\",\n",
    "    )\n",
    "\n",
    "    ax.add_patch(table)\n",
    "    ax.add_patch(table_frame)\n",
    "\n",
    "    ax.hlines(0.0, 0.0 + shift, 2.74 + shift, linewidth=3, color=\"white\", zorder=1)\n",
    "    ax.vlines(\n",
    "        2.74 / 2 + shift,\n",
    "        -1.525 / 2,\n",
    "        1.525 / 2,\n",
    "        linewidth=6,\n",
    "        color=\"dimgrey\",\n",
    "        zorder=1,\n",
    "        label=\"_nolegend_\",\n",
    "    )"
   ]
  },
  {
   "cell_type": "code",
   "execution_count": null,
   "metadata": {},
   "outputs": [],
   "source": [
    "def add_hitpoints_plot(\n",
    "    trajectory_collection: TrajectoryCollection,\n",
    "    ax: plt.axes,\n",
    "    color_iterator=None,\n",
    "    vertical: bool = False,\n",
    "):\n",
    "    hitpoint_axis = trajectory_collection.get_item(0)[\"axis\"]\n",
    "\n",
    "    axis = [0, 1, 2]\n",
    "    axis.remove(hitpoint_axis)\n",
    "\n",
    "    if color_iterator is not None:\n",
    "        color = next(color_iterator)\n",
    "    else:\n",
    "        color = None\n",
    "\n",
    "    x = []\n",
    "    y = []\n",
    "\n",
    "    for sample in trajectory_collection:\n",
    "        hitpoints = np.array(sample[\"hitpoints\"])\n",
    "\n",
    "        if hitpoints.size == 0:\n",
    "            continue\n",
    "\n",
    "        x.append(hitpoints[:, axis[0]])\n",
    "        y.append(hitpoints[:, axis[1]])\n",
    "\n",
    "    if not vertical:\n",
    "        ax.scatter(x, y, color=color, alpha=0.8, edgecolor=None)\n",
    "    else:\n",
    "        ax.scatter(y, x, color=color, alpha=0.8, edgecolor=None)"
   ]
  },
  {
   "cell_type": "code",
   "execution_count": null,
   "metadata": {},
   "outputs": [],
   "source": [
    "fig, ax = plt.subplots(figsize=(12.135, 12.135))\n",
    "fig.align_labels()\n",
    "fig.set_size_inches(5.00, 2.75)\n",
    "\n",
    "ax.set_aspect(\"equal\")\n",
    "ax.grid()\n",
    "\n",
    "add_table_2d(ax, 0.8)\n",
    "add_hitpoints_plot(data_hitpoints, ax)\n",
    "\n",
    "ax.set_xlabel(\"$x$ [m]\")\n",
    "ax.set_ylabel(\"$y$ [m]\")\n",
    "\n",
    "fig.savefig(\"plots/dataset_hitpoints.pdf\")"
   ]
  },
  {
   "cell_type": "markdown",
   "metadata": {},
   "source": [
    "#### Visualize 2D Histogram"
   ]
  },
  {
   "cell_type": "code",
   "execution_count": null,
   "metadata": {},
   "outputs": [],
   "source": [
    "fig, ax = plt.subplots(figsize=(7.0, 5.0))\n",
    "\n",
    "ax.set_aspect(\"equal\")\n",
    "\n",
    "hitpoint_axis = data_hitpoints.get_item(0)[\"axis\"]\n",
    "\n",
    "axis = [0, 1, 2]\n",
    "axis.remove(hitpoint_axis)\n",
    "gridsize = 40\n",
    "\n",
    "x = []\n",
    "y = []\n",
    "\n",
    "for sample in data_hitpoints:\n",
    "    hitpoints = np.array(sample.hitpoints)\n",
    "\n",
    "    if hitpoints.size == 0:\n",
    "        continue\n",
    "\n",
    "    x.append(hitpoints[:, axis[0]])\n",
    "    y.append(hitpoints[:, axis[1]])\n",
    "\n",
    "x = np.array(x)\n",
    "y = np.array(y)\n",
    "\n",
    "hb = ax.hexbin(x, y, gridsize=gridsize, cmap=\"magma\")\n",
    "\n",
    "fig.colorbar(hb, ax=ax, label=\"counts\")\n",
    "fig.savefig(\"plots/dataset_histogram.pdf\")"
   ]
  },
  {
   "cell_type": "markdown",
   "metadata": {},
   "source": [
    "## Plot equidistant sampling"
   ]
  },
  {
   "cell_type": "code",
   "execution_count": null,
   "metadata": {},
   "outputs": [],
   "source": [
    "distances = []\n",
    "\n",
    "for trajectory_data in data_raw:\n",
    "    time_stamps = trajectory_data.time_stamps\n",
    "\n",
    "    diff = np.diff(time_stamps)\n",
    "    diff = list(diff)\n",
    "\n",
    "    distances.extend(diff)\n",
    "\n",
    "distances = [dist * 1000 for dist in distances]\n",
    "fig, ax = plt.subplots(figsize=(4.0, 3.0))\n",
    "\n",
    "n, bins, patches = ax.hist(distances, 1800, facecolor=\"#006c66\", alpha=0.9)\n",
    "ax.set_xlim(4, 7)\n",
    "\n",
    "ax.set_xlabel(r\"$\\Delta t$ [ms]\")\n",
    "ax.set_ylabel(r\"$n$ samples [-]\")\n",
    "\n",
    "ax.grid()\n",
    "\n",
    "fig.savefig(\"plots/diff_histogram.pdf\")\n",
    "tikzplotlib.save(\"plots/diff_histogram.tex\")"
   ]
  }
 ],
 "metadata": {
  "kernelspec": {
   "display_name": "aimy",
   "language": "python",
   "name": "python3"
  },
  "language_info": {
   "codemirror_mode": {
    "name": "ipython",
    "version": 3
   },
   "file_extension": ".py",
   "mimetype": "text/x-python",
   "name": "python",
   "nbconvert_exporter": "python",
   "pygments_lexer": "ipython3",
   "version": "3.11.0"
  },
  "orig_nbformat": 4,
  "vscode": {
   "interpreter": {
    "hash": "df9e31e50bf3ccaab8caf9564f0e84d338a09b3b69177ed2dba1f960f59d3b03"
   }
  }
 },
 "nbformat": 4,
 "nbformat_minor": 2
}
